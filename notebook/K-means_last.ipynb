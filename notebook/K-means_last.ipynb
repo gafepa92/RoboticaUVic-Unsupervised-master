{
 "metadata": {
  "name": "",
  "signature": "sha256:f82eeef0a11bd860afe897688dd99bd5d11223208adf26ee0399a6b95c71c79f"
 },
 "nbformat": 3,
 "nbformat_minor": 0,
 "worksheets": [
  {
   "cells": [
    {
     "cell_type": "code",
     "collapsed": false,
     "input": [
      "from sklearn import datasets\n",
      "from sklearn.cluster import KMeans\n",
      "import pylab as pl\n",
      "import numpy as np\n",
      "from sklearn.decomposition import PCA\n",
      "import matplotlib.pyplot as plt\n",
      "from mpl_toolkits.mplot3d import Axes3D\n",
      "iris = datasets.load_iris()\n",
      "#print iris.data\n",
      "#print iris.target\n",
      "import pandas as pd\n",
      "#np.random.seed(5)"
     ],
     "language": "python",
     "metadata": {},
     "outputs": [],
     "prompt_number": 2
    },
    {
     "cell_type": "code",
     "collapsed": false,
     "input": [
      "from sklearn.decomposition import PCA\n",
      "from sklearn.cluster import KMeans\n",
      "from sklearn.datasets import load_iris\n",
      "import pylab as pl\n",
      "iris = load_iris()\n",
      "pca = PCA(n_components=2).fit(iris.data)\n",
      "pca_2d = pca.transform(iris.data)\n",
      "pl.figure('Reference Plot')\n",
      "pl.scatter(pca_2d[:, 0], pca_2d[:, 1], c=iris.target)\n",
      "kmeans = KMeans(n_clusters=3, random_state=111)\n",
      "kmeans.fit(iris.data)\n",
      "print kmeans\n",
      "pl.figure('K-means with 3 clusters')\n",
      "pl.scatter(pca_2d[:, 0], pca_2d[:, 1], c=kmeans.labels_)\n",
      "pl.show()"
     ],
     "language": "python",
     "metadata": {},
     "outputs": [
      {
       "output_type": "stream",
       "stream": "stdout",
       "text": [
        "KMeans(copy_x=True, init='k-means++', max_iter=300, n_clusters=3, n_init=10,\n",
        "    n_jobs=1, precompute_distances='auto', random_state=111, tol=0.0001,\n",
        "    verbose=0)\n"
       ]
      }
     ],
     "prompt_number": 9
    },
    {
     "cell_type": "code",
     "collapsed": false,
     "input": [
      "def kmeansmy(x,k):\n",
      "\n",
      "    centroides =np.random.randint(np.min(iris.data),np.max(iris.data),size = (10,x.shape[1]))\n",
      "    c4 = pl.scatter(centroides[:, 0], centroides[:, 1], c='r',marker='*',s=100)\n",
      "    pl.scatter(x[:,0], x[:,1], c='g')\n",
      "    print \"random centroids\"\n",
      "    print centroides\n",
      "    y = np.zeros(x.shape[0])\n",
      "    array=np.random.rand(k,x.shape[1])\n",
      "    print \"euclidean distance\"\n",
      "    for i in range (0,x.shape[0]):\n",
      "         y[i] = np.argmin(np.sum((centroides - x[i])**2,1)) #calcul distancia euclidea\n",
      "         #print y[i]   \n",
      "    for i in range (0,k):\n",
      "        array[i]=x[y==i].mean(0)\n",
      "        print np.mean(x[y==i],0)\n",
      "        \n",
      "    pca = PCA(n_components=2).fit(x)\n",
      "    pca_2d = pca.transform(x)\n",
      " \n",
      "    for i in range(0, pca_2d.shape[0]):\n",
      "        if iris.target[i] == 0:\n",
      "            c1 = pl.scatter(pca_2d[i,0],pca_2d[i,1],c='r',marker='s')\n",
      "        elif iris.target[i] == 1:\n",
      "            c2 = pl.scatter(pca_2d[i,0],pca_2d[i,1],c='g',marker='o')\n",
      "        elif iris.target[i] == 2: \n",
      "            c3 = pl.scatter(pca_2d[i,0],pca_2d[i,1],c='b',marker='v')\n",
      "       \n",
      "    pl.legend([c1, c2, c3, c4], ['Setosa', 'Versicolor','Virginica','centroids'])\n",
      "    pl.title('Iris dataset with clusters and known outcomes')\n",
      "    pl.show()\n",
      "    #return y\n",
      "    return array\n",
      "    \n"
     ],
     "language": "python",
     "metadata": {},
     "outputs": [],
     "prompt_number": 4
    },
    {
     "cell_type": "code",
     "collapsed": false,
     "input": [
      "means = kmeansmy(iris.data, 10)"
     ],
     "language": "python",
     "metadata": {},
     "outputs": [
      {
       "output_type": "stream",
       "stream": "stdout",
       "text": [
        "random centroids\n",
        "[[6 0 3 6]\n",
        " [0 4 5 1]\n",
        " [2 2 6 3]\n",
        " [2 1 4 1]\n",
        " [5 2 4 5]\n",
        " [3 0 2 2]\n",
        " [1 5 4 0]\n",
        " [6 4 2 5]\n",
        " [0 4 6 4]\n",
        " [6 3 5 1]]\n",
        "euclidean distance\n",
        "[ nan  nan  nan  nan]\n",
        "[ nan  nan  nan  nan]\n",
        "[ nan  nan  nan  nan]\n",
        "[ nan  nan  nan  nan]\n",
        "[ nan  nan  nan  nan]\n",
        "[ 4.4   2.88  1.28  0.2 ]\n",
        "[ nan  nan  nan  nan]\n",
        "[ nan  nan  nan  nan]\n",
        "[ nan  nan  nan  nan]\n",
        "[ 5.89310345  3.06        3.84413793  1.23310345]\n"
       ]
      }
     ],
     "prompt_number": 13
    },
    {
     "cell_type": "code",
     "collapsed": false,
     "input": [
      "print means"
     ],
     "language": "python",
     "metadata": {},
     "outputs": [
      {
       "output_type": "stream",
       "stream": "stdout",
       "text": [
        "[[        nan         nan         nan         nan]\n",
        " [        nan         nan         nan         nan]\n",
        " [        nan         nan         nan         nan]\n",
        " [ 4.96        2.52        3.          0.86      ]\n",
        " [        nan         nan         nan         nan]\n",
        " [ 6.10277778  2.85833333  4.64305556  1.60277778]\n",
        " [ 5.01020408  3.41836735  1.45510204  0.24489796]\n",
        " [        nan         nan         nan         nan]\n",
        " [ 6.95        3.00833333  5.96666667  2.00416667]\n",
        " [        nan         nan         nan         nan]]\n"
       ]
      }
     ],
     "prompt_number": 15
    },
    {
     "cell_type": "code",
     "collapsed": false,
     "input": [
      "print \"K = 3 kmeans for 2 dimensions\"\n",
      "twodim = kmeansmy(iris.data[:,:-2],3)"
     ],
     "language": "python",
     "metadata": {},
     "outputs": [
      {
       "output_type": "stream",
       "stream": "stdout",
       "text": [
        "K = 3 kmeans for 2 dimensions\n",
        "random centroids"
       ]
      },
      {
       "output_type": "stream",
       "stream": "stdout",
       "text": [
        "\n",
        "[[6 5]\n",
        " [0 4]\n",
        " [5 2]\n",
        " [2 3]\n",
        " [3 1]\n",
        " [2 0]\n",
        " [0 0]\n",
        " [5 4]\n",
        " [2 0]\n",
        " [0 0]]\n",
        "euclidean distance\n",
        "[ 7.1         3.28333333]\n",
        "[ nan  nan]\n",
        "[ 5.87692308  2.73974359]\n"
       ]
      }
     ],
     "prompt_number": 14
    },
    {
     "cell_type": "code",
     "collapsed": false,
     "input": [
      "print \"report the MSE for each cluster and globally\"\n",
      "for i in range (0,iris.data.shape[1]):\n",
      "    y = iris.data[:,i]\n",
      "    print 'Data points', len(y)\n",
      "    dot = np.dot\n",
      "    inv = np.linalg.inv\n",
      "    # Dummy features\n",
      "    X = np.ones((iris.data.shape[0],1))\n",
      "    #print y.T\n",
      "    print \"theta cluster\",i+1\n",
      "    theta = dot(dot(inv(dot(X.T, X)), X.T), y)\n",
      "    print theta\n",
      "    # MSE = (1/N)*sum((y-X*theta)^2) \n",
      "    print \"Mean-squared error MSE cluster\", i+1\n",
      "    print sum((y-dot(X, theta))**2) / len(y)"
     ],
     "language": "python",
     "metadata": {},
     "outputs": [
      {
       "output_type": "stream",
       "stream": "stdout",
       "text": [
        "report the MSE for each cluster and globally\n",
        "Data points 150\n",
        "theta cluster 1\n",
        "[ 5.84333333]\n",
        "Mean-squared error MSE cluster 1\n",
        "0.681122222222\n",
        "Data points 150\n",
        "theta cluster 2\n",
        "[ 3.054]\n",
        "Mean-squared error MSE cluster 2\n",
        "0.186750666667\n",
        "Data points 150\n",
        "theta cluster 3\n",
        "[ 3.75866667]\n",
        "Mean-squared error MSE cluster 3\n",
        "3.09242488889\n",
        "Data points 150\n",
        "theta cluster 4\n",
        "[ 1.19866667]\n",
        "Mean-squared error MSE cluster 4\n",
        "0.578531555556\n"
       ]
      }
     ],
     "prompt_number": 21
    },
    {
     "cell_type": "code",
     "collapsed": false,
     "input": [
      "print \"MSE for all values\"\n",
      "z = iris.data[:,0]\n",
      "z = np.append([iris.data[:,0]], [iris.data[:,1],iris.data[:,2],iris.data[:,3]])\n",
      "ALL = np.ones((len(z),1))\n",
      "print \"theta ALL\"\n",
      "theta = dot(dot(inv(dot(ALL.T, ALL)), ALL.T), z)\n",
      "print theta\n",
      "# MSE = (1/N)*sum((y-X*theta)^2) \n",
      "print \"Mean-squared error MSE ALL\",\n",
      "print sum((z-dot(ALL, theta))**2) / len(z)\n"
     ],
     "language": "python",
     "metadata": {},
     "outputs": [
      {
       "output_type": "stream",
       "stream": "stdout",
       "text": [
        "MSE for all values\n",
        "theta ALL\n",
        "[ 3.46366667]\n",
        "Mean-squared error MSE ALL 3.89667988889\n"
       ]
      }
     ],
     "prompt_number": 29
    },
    {
     "cell_type": "code",
     "collapsed": false,
     "input": [],
     "language": "python",
     "metadata": {},
     "outputs": []
    }
   ],
   "metadata": {}
  }
 ]
}